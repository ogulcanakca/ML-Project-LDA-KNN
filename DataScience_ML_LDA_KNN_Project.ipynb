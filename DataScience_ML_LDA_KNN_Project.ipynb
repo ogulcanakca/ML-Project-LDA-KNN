{
  "cells": [
    {
      "cell_type": "markdown",
      "metadata": {
        "id": "view-in-github",
        "colab_type": "text"
      },
      "source": [
        "<a href=\"https://colab.research.google.com/github/ogulcanakca/ML-Project-LDA-KNN/blob/main/DataScience_ML_LDA_KNN_Project.ipynb\" target=\"_parent\"><img src=\"https://colab.research.google.com/assets/colab-badge.svg\" alt=\"Open In Colab\"/></a>"
      ]
    },
    {
      "cell_type": "markdown",
      "source": [
        "### **Denetimli (supervised) ve Denetimsiz (unsupervised) Öğrenme**\n",
        "\n",
        "* *Denetimli Öğrenme*: Model, **etiketlenmiş** eğitim verilerden eğitilir ve<font color = red> öngörülemeyen verilerin sonuçlarını tahmin etmeyi sağlayan</font> makine öğrenme tekniğidir.\n",
        "* *Denetimsiz Öğrenme*: **Etiketlenmemiş** veriler ile modelin <font color = red>daha önce algılanmamış desenleri ve bilgileri keşfetmek için kullanılan</font>  makine öğrenme tekniğidir.\n",
        "\n",
        "<img src = \"https://miro.medium.com/max/828/1*wBeGZyjp7U-iewyY6HlTMA.webp\" width =\"600\" heigth = \"550\"><img src = \"https://cdn.shopify.com/s/files/1/2508/7764/products/meyve-sepeti-kanvas-tablo-62c6de17f1159_x1000.jpg?v=1658307639 \" width =\"400\" heigth = \"600\"> \n"
      ],
      "metadata": {
        "id": "I3m5rV6g7xGF"
      }
    },
    {
      "cell_type": "markdown",
      "source": [
        "#LDA ile boyut azaltma"
      ],
      "metadata": {
        "id": "Wbn8Yprdb-qS"
      }
    },
    {
      "cell_type": "markdown",
      "source": [
        "Linear Discriminant Analysis (LDA) machine learning uygulamaları için veri işleme aşamasında boyut azaltma tekniği olarak kullanılır. \n",
        "* Makine öğrenmesinde, supervised learning kısmında kullanılır.\n",
        "* Makine öğrenmesi algoritması olarak da kullanılabilir. Sunumun devamında en yakın komşu algoritmasıyla modelimizi eğitmeden önce LDA ile boyut indirgeyeceğiz, sonra modelimizi eğiteceğiz.\n",
        "\n",
        "\n",
        "\n",
        "\n",
        "\n"
      ],
      "metadata": {
        "id": "ur4Sdetgb-qU"
      }
    },
    {
      "cell_type": "markdown",
      "source": [
        "* Doğrusal diskriminant analiz, bir sınıflandırma yöntemidir ve verileri en iyi şekilde ayrıştırmak için doğrusal bir ayrıştırma kullanır. \n",
        "* Gruplardaki farklılıkları modellemek, yani iki veya daha fazla sınıfı ayırmak için kullanılır. \n",
        "* Yüksek boyutlu uzaydaki unsurları daha düşük boyutlu bir uzaya indirgemek için kullanılır."
      ],
      "metadata": {
        "id": "-mDLE-Knb-qV"
      }
    },
    {
      "cell_type": "markdown",
      "source": [
        "<img src = \"https://media.geeksforgeeks.org/wp-content/uploads/20190423124957/2dldanew.jpg \" width =\"500\" heigth = \"300\"> <br> \n",
        "2 sınıfımız olduğunu varsayalım. Verilen 2B grafikte gösterildiği gibi, veri noktaları 2B düzlemde çizildiğinde, veri noktalarının iki sınıfını tamamen ayırabilecek düz bir çizgi yoktur. Bu nedenle, bu durumda, iki sınıf arasındaki ayrılabilirliği en üst düzeye çıkarmak için 2B grafiği 1B grafiğe indirgeyen LDA (Doğrusal Diskriminant Analizi) kullanılır.\n",
        "<img src = \"https://media.geeksforgeeks.org/wp-content/uploads/20190423132508/1dlda.jpg\" width =\"500\" heigth = \"300\"> <br> "
      ],
      "metadata": {
        "id": "vxPf_ONyEAvu"
      }
    },
    {
      "cell_type": "markdown",
      "source": [
        "Veri kümesi, üç farklı iris türüne ait 150 adet çiçeğin santimetre cinsinden taç ve çanak yapraklarının uzunluklarını ve genişliklerini içeriyor. İlk dört sütun yaprak ölçümlerini, 5. sütun hangi türe ait olduğunu gösteriyor. Veri setimizde çiçekler üç türden birine aittir. <br>\n",
        "\n",
        "<img src = \"https://sebastianraschka.com/images/blog/2014/linear-discriminant-analysis/iris_petal_sepal.png \" width =\"400\" heigth = \"600\"> "
      ],
      "metadata": {
        "id": "n0VuhfUwYqKa"
      }
    },
    {
      "cell_type": "code",
      "source": [
        "import pandas as pd\n",
        "import numpy as np\n",
        "from sklearn import datasets\n",
        "\n",
        "url = \"https://archive.ics.uci.edu/ml/machine-learning-databases/iris/iris.data\"\n",
        "cls = ['sepal-length', 'sepal-width', 'petal-length', 'petal-width', 'class']\n",
        "\n",
        "df = pd.read_csv(url, names=cls)\n",
        "\n",
        "df.tail()"
      ],
      "metadata": {
        "colab": {
          "base_uri": "https://localhost:8080/",
          "height": 206
        },
        "id": "J22AdM7kYxSl",
        "outputId": "67a0bf0c-5075-4ac7-8548-404e7d3cb265"
      },
      "execution_count": null,
      "outputs": [
        {
          "output_type": "execute_result",
          "data": {
            "text/plain": [
              "     sepal-length  sepal-width  petal-length  petal-width           class\n",
              "145           6.7          3.0           5.2          2.3  Iris-virginica\n",
              "146           6.3          2.5           5.0          1.9  Iris-virginica\n",
              "147           6.5          3.0           5.2          2.0  Iris-virginica\n",
              "148           6.2          3.4           5.4          2.3  Iris-virginica\n",
              "149           5.9          3.0           5.1          1.8  Iris-virginica"
            ],
            "text/html": [
              "\n",
              "  <div id=\"df-11bf8f2c-05ef-41f8-ba60-223ef4b3082a\">\n",
              "    <div class=\"colab-df-container\">\n",
              "      <div>\n",
              "<style scoped>\n",
              "    .dataframe tbody tr th:only-of-type {\n",
              "        vertical-align: middle;\n",
              "    }\n",
              "\n",
              "    .dataframe tbody tr th {\n",
              "        vertical-align: top;\n",
              "    }\n",
              "\n",
              "    .dataframe thead th {\n",
              "        text-align: right;\n",
              "    }\n",
              "</style>\n",
              "<table border=\"1\" class=\"dataframe\">\n",
              "  <thead>\n",
              "    <tr style=\"text-align: right;\">\n",
              "      <th></th>\n",
              "      <th>sepal-length</th>\n",
              "      <th>sepal-width</th>\n",
              "      <th>petal-length</th>\n",
              "      <th>petal-width</th>\n",
              "      <th>class</th>\n",
              "    </tr>\n",
              "  </thead>\n",
              "  <tbody>\n",
              "    <tr>\n",
              "      <th>145</th>\n",
              "      <td>6.7</td>\n",
              "      <td>3.0</td>\n",
              "      <td>5.2</td>\n",
              "      <td>2.3</td>\n",
              "      <td>Iris-virginica</td>\n",
              "    </tr>\n",
              "    <tr>\n",
              "      <th>146</th>\n",
              "      <td>6.3</td>\n",
              "      <td>2.5</td>\n",
              "      <td>5.0</td>\n",
              "      <td>1.9</td>\n",
              "      <td>Iris-virginica</td>\n",
              "    </tr>\n",
              "    <tr>\n",
              "      <th>147</th>\n",
              "      <td>6.5</td>\n",
              "      <td>3.0</td>\n",
              "      <td>5.2</td>\n",
              "      <td>2.0</td>\n",
              "      <td>Iris-virginica</td>\n",
              "    </tr>\n",
              "    <tr>\n",
              "      <th>148</th>\n",
              "      <td>6.2</td>\n",
              "      <td>3.4</td>\n",
              "      <td>5.4</td>\n",
              "      <td>2.3</td>\n",
              "      <td>Iris-virginica</td>\n",
              "    </tr>\n",
              "    <tr>\n",
              "      <th>149</th>\n",
              "      <td>5.9</td>\n",
              "      <td>3.0</td>\n",
              "      <td>5.1</td>\n",
              "      <td>1.8</td>\n",
              "      <td>Iris-virginica</td>\n",
              "    </tr>\n",
              "  </tbody>\n",
              "</table>\n",
              "</div>\n",
              "      <button class=\"colab-df-convert\" onclick=\"convertToInteractive('df-11bf8f2c-05ef-41f8-ba60-223ef4b3082a')\"\n",
              "              title=\"Convert this dataframe to an interactive table.\"\n",
              "              style=\"display:none;\">\n",
              "        \n",
              "  <svg xmlns=\"http://www.w3.org/2000/svg\" height=\"24px\"viewBox=\"0 0 24 24\"\n",
              "       width=\"24px\">\n",
              "    <path d=\"M0 0h24v24H0V0z\" fill=\"none\"/>\n",
              "    <path d=\"M18.56 5.44l.94 2.06.94-2.06 2.06-.94-2.06-.94-.94-2.06-.94 2.06-2.06.94zm-11 1L8.5 8.5l.94-2.06 2.06-.94-2.06-.94L8.5 2.5l-.94 2.06-2.06.94zm10 10l.94 2.06.94-2.06 2.06-.94-2.06-.94-.94-2.06-.94 2.06-2.06.94z\"/><path d=\"M17.41 7.96l-1.37-1.37c-.4-.4-.92-.59-1.43-.59-.52 0-1.04.2-1.43.59L10.3 9.45l-7.72 7.72c-.78.78-.78 2.05 0 2.83L4 21.41c.39.39.9.59 1.41.59.51 0 1.02-.2 1.41-.59l7.78-7.78 2.81-2.81c.8-.78.8-2.07 0-2.86zM5.41 20L4 18.59l7.72-7.72 1.47 1.35L5.41 20z\"/>\n",
              "  </svg>\n",
              "      </button>\n",
              "      \n",
              "  <style>\n",
              "    .colab-df-container {\n",
              "      display:flex;\n",
              "      flex-wrap:wrap;\n",
              "      gap: 12px;\n",
              "    }\n",
              "\n",
              "    .colab-df-convert {\n",
              "      background-color: #E8F0FE;\n",
              "      border: none;\n",
              "      border-radius: 50%;\n",
              "      cursor: pointer;\n",
              "      display: none;\n",
              "      fill: #1967D2;\n",
              "      height: 32px;\n",
              "      padding: 0 0 0 0;\n",
              "      width: 32px;\n",
              "    }\n",
              "\n",
              "    .colab-df-convert:hover {\n",
              "      background-color: #E2EBFA;\n",
              "      box-shadow: 0px 1px 2px rgba(60, 64, 67, 0.3), 0px 1px 3px 1px rgba(60, 64, 67, 0.15);\n",
              "      fill: #174EA6;\n",
              "    }\n",
              "\n",
              "    [theme=dark] .colab-df-convert {\n",
              "      background-color: #3B4455;\n",
              "      fill: #D2E3FC;\n",
              "    }\n",
              "\n",
              "    [theme=dark] .colab-df-convert:hover {\n",
              "      background-color: #434B5C;\n",
              "      box-shadow: 0px 1px 3px 1px rgba(0, 0, 0, 0.15);\n",
              "      filter: drop-shadow(0px 1px 2px rgba(0, 0, 0, 0.3));\n",
              "      fill: #FFFFFF;\n",
              "    }\n",
              "  </style>\n",
              "\n",
              "      <script>\n",
              "        const buttonEl =\n",
              "          document.querySelector('#df-11bf8f2c-05ef-41f8-ba60-223ef4b3082a button.colab-df-convert');\n",
              "        buttonEl.style.display =\n",
              "          google.colab.kernel.accessAllowed ? 'block' : 'none';\n",
              "\n",
              "        async function convertToInteractive(key) {\n",
              "          const element = document.querySelector('#df-11bf8f2c-05ef-41f8-ba60-223ef4b3082a');\n",
              "          const dataTable =\n",
              "            await google.colab.kernel.invokeFunction('convertToInteractive',\n",
              "                                                     [key], {});\n",
              "          if (!dataTable) return;\n",
              "\n",
              "          const docLinkHtml = 'Like what you see? Visit the ' +\n",
              "            '<a target=\"_blank\" href=https://colab.research.google.com/notebooks/data_table.ipynb>data table notebook</a>'\n",
              "            + ' to learn more about interactive tables.';\n",
              "          element.innerHTML = '';\n",
              "          dataTable['output_type'] = 'display_data';\n",
              "          await google.colab.output.renderOutput(dataTable, element);\n",
              "          const docLink = document.createElement('div');\n",
              "          docLink.innerHTML = docLinkHtml;\n",
              "          element.appendChild(docLink);\n",
              "        }\n",
              "      </script>\n",
              "    </div>\n",
              "  </div>\n",
              "  "
            ]
          },
          "metadata": {},
          "execution_count": 2
        }
      ]
    },
    {
      "cell_type": "code",
      "source": [
        "df.groupby('class').size()"
      ],
      "metadata": {
        "colab": {
          "base_uri": "https://localhost:8080/"
        },
        "id": "pr_2JonQY3KP",
        "outputId": "f3aff459-df96-4df9-f766-8898f80fe3ab"
      },
      "execution_count": null,
      "outputs": [
        {
          "output_type": "execute_result",
          "data": {
            "text/plain": [
              "class\n",
              "Iris-setosa        50\n",
              "Iris-versicolor    50\n",
              "Iris-virginica     50\n",
              "dtype: int64"
            ]
          },
          "metadata": {},
          "execution_count": 3
        }
      ]
    },
    {
      "cell_type": "code",
      "source": [
        "df.describe()"
      ],
      "metadata": {
        "colab": {
          "base_uri": "https://localhost:8080/",
          "height": 300
        },
        "id": "iYatXx9fY6jt",
        "outputId": "9e1cd9a5-7301-4ae0-b6a2-f8bdb31d91c9"
      },
      "execution_count": null,
      "outputs": [
        {
          "output_type": "execute_result",
          "data": {
            "text/plain": [
              "       sepal-length  sepal-width  petal-length  petal-width\n",
              "count    150.000000   150.000000    150.000000   150.000000\n",
              "mean       5.843333     3.054000      3.758667     1.198667\n",
              "std        0.828066     0.433594      1.764420     0.763161\n",
              "min        4.300000     2.000000      1.000000     0.100000\n",
              "25%        5.100000     2.800000      1.600000     0.300000\n",
              "50%        5.800000     3.000000      4.350000     1.300000\n",
              "75%        6.400000     3.300000      5.100000     1.800000\n",
              "max        7.900000     4.400000      6.900000     2.500000"
            ],
            "text/html": [
              "\n",
              "  <div id=\"df-a8080441-2734-4161-ab83-7f16fa331a4b\">\n",
              "    <div class=\"colab-df-container\">\n",
              "      <div>\n",
              "<style scoped>\n",
              "    .dataframe tbody tr th:only-of-type {\n",
              "        vertical-align: middle;\n",
              "    }\n",
              "\n",
              "    .dataframe tbody tr th {\n",
              "        vertical-align: top;\n",
              "    }\n",
              "\n",
              "    .dataframe thead th {\n",
              "        text-align: right;\n",
              "    }\n",
              "</style>\n",
              "<table border=\"1\" class=\"dataframe\">\n",
              "  <thead>\n",
              "    <tr style=\"text-align: right;\">\n",
              "      <th></th>\n",
              "      <th>sepal-length</th>\n",
              "      <th>sepal-width</th>\n",
              "      <th>petal-length</th>\n",
              "      <th>petal-width</th>\n",
              "    </tr>\n",
              "  </thead>\n",
              "  <tbody>\n",
              "    <tr>\n",
              "      <th>count</th>\n",
              "      <td>150.000000</td>\n",
              "      <td>150.000000</td>\n",
              "      <td>150.000000</td>\n",
              "      <td>150.000000</td>\n",
              "    </tr>\n",
              "    <tr>\n",
              "      <th>mean</th>\n",
              "      <td>5.843333</td>\n",
              "      <td>3.054000</td>\n",
              "      <td>3.758667</td>\n",
              "      <td>1.198667</td>\n",
              "    </tr>\n",
              "    <tr>\n",
              "      <th>std</th>\n",
              "      <td>0.828066</td>\n",
              "      <td>0.433594</td>\n",
              "      <td>1.764420</td>\n",
              "      <td>0.763161</td>\n",
              "    </tr>\n",
              "    <tr>\n",
              "      <th>min</th>\n",
              "      <td>4.300000</td>\n",
              "      <td>2.000000</td>\n",
              "      <td>1.000000</td>\n",
              "      <td>0.100000</td>\n",
              "    </tr>\n",
              "    <tr>\n",
              "      <th>25%</th>\n",
              "      <td>5.100000</td>\n",
              "      <td>2.800000</td>\n",
              "      <td>1.600000</td>\n",
              "      <td>0.300000</td>\n",
              "    </tr>\n",
              "    <tr>\n",
              "      <th>50%</th>\n",
              "      <td>5.800000</td>\n",
              "      <td>3.000000</td>\n",
              "      <td>4.350000</td>\n",
              "      <td>1.300000</td>\n",
              "    </tr>\n",
              "    <tr>\n",
              "      <th>75%</th>\n",
              "      <td>6.400000</td>\n",
              "      <td>3.300000</td>\n",
              "      <td>5.100000</td>\n",
              "      <td>1.800000</td>\n",
              "    </tr>\n",
              "    <tr>\n",
              "      <th>max</th>\n",
              "      <td>7.900000</td>\n",
              "      <td>4.400000</td>\n",
              "      <td>6.900000</td>\n",
              "      <td>2.500000</td>\n",
              "    </tr>\n",
              "  </tbody>\n",
              "</table>\n",
              "</div>\n",
              "      <button class=\"colab-df-convert\" onclick=\"convertToInteractive('df-a8080441-2734-4161-ab83-7f16fa331a4b')\"\n",
              "              title=\"Convert this dataframe to an interactive table.\"\n",
              "              style=\"display:none;\">\n",
              "        \n",
              "  <svg xmlns=\"http://www.w3.org/2000/svg\" height=\"24px\"viewBox=\"0 0 24 24\"\n",
              "       width=\"24px\">\n",
              "    <path d=\"M0 0h24v24H0V0z\" fill=\"none\"/>\n",
              "    <path d=\"M18.56 5.44l.94 2.06.94-2.06 2.06-.94-2.06-.94-.94-2.06-.94 2.06-2.06.94zm-11 1L8.5 8.5l.94-2.06 2.06-.94-2.06-.94L8.5 2.5l-.94 2.06-2.06.94zm10 10l.94 2.06.94-2.06 2.06-.94-2.06-.94-.94-2.06-.94 2.06-2.06.94z\"/><path d=\"M17.41 7.96l-1.37-1.37c-.4-.4-.92-.59-1.43-.59-.52 0-1.04.2-1.43.59L10.3 9.45l-7.72 7.72c-.78.78-.78 2.05 0 2.83L4 21.41c.39.39.9.59 1.41.59.51 0 1.02-.2 1.41-.59l7.78-7.78 2.81-2.81c.8-.78.8-2.07 0-2.86zM5.41 20L4 18.59l7.72-7.72 1.47 1.35L5.41 20z\"/>\n",
              "  </svg>\n",
              "      </button>\n",
              "      \n",
              "  <style>\n",
              "    .colab-df-container {\n",
              "      display:flex;\n",
              "      flex-wrap:wrap;\n",
              "      gap: 12px;\n",
              "    }\n",
              "\n",
              "    .colab-df-convert {\n",
              "      background-color: #E8F0FE;\n",
              "      border: none;\n",
              "      border-radius: 50%;\n",
              "      cursor: pointer;\n",
              "      display: none;\n",
              "      fill: #1967D2;\n",
              "      height: 32px;\n",
              "      padding: 0 0 0 0;\n",
              "      width: 32px;\n",
              "    }\n",
              "\n",
              "    .colab-df-convert:hover {\n",
              "      background-color: #E2EBFA;\n",
              "      box-shadow: 0px 1px 2px rgba(60, 64, 67, 0.3), 0px 1px 3px 1px rgba(60, 64, 67, 0.15);\n",
              "      fill: #174EA6;\n",
              "    }\n",
              "\n",
              "    [theme=dark] .colab-df-convert {\n",
              "      background-color: #3B4455;\n",
              "      fill: #D2E3FC;\n",
              "    }\n",
              "\n",
              "    [theme=dark] .colab-df-convert:hover {\n",
              "      background-color: #434B5C;\n",
              "      box-shadow: 0px 1px 3px 1px rgba(0, 0, 0, 0.15);\n",
              "      filter: drop-shadow(0px 1px 2px rgba(0, 0, 0, 0.3));\n",
              "      fill: #FFFFFF;\n",
              "    }\n",
              "  </style>\n",
              "\n",
              "      <script>\n",
              "        const buttonEl =\n",
              "          document.querySelector('#df-a8080441-2734-4161-ab83-7f16fa331a4b button.colab-df-convert');\n",
              "        buttonEl.style.display =\n",
              "          google.colab.kernel.accessAllowed ? 'block' : 'none';\n",
              "\n",
              "        async function convertToInteractive(key) {\n",
              "          const element = document.querySelector('#df-a8080441-2734-4161-ab83-7f16fa331a4b');\n",
              "          const dataTable =\n",
              "            await google.colab.kernel.invokeFunction('convertToInteractive',\n",
              "                                                     [key], {});\n",
              "          if (!dataTable) return;\n",
              "\n",
              "          const docLinkHtml = 'Like what you see? Visit the ' +\n",
              "            '<a target=\"_blank\" href=https://colab.research.google.com/notebooks/data_table.ipynb>data table notebook</a>'\n",
              "            + ' to learn more about interactive tables.';\n",
              "          element.innerHTML = '';\n",
              "          dataTable['output_type'] = 'display_data';\n",
              "          await google.colab.output.renderOutput(dataTable, element);\n",
              "          const docLink = document.createElement('div');\n",
              "          docLink.innerHTML = docLinkHtml;\n",
              "          element.appendChild(docLink);\n",
              "        }\n",
              "      </script>\n",
              "    </div>\n",
              "  </div>\n",
              "  "
            ]
          },
          "metadata": {},
          "execution_count": 4
        }
      ]
    },
    {
      "cell_type": "markdown",
      "source": [
        "#Matematiksel açıklama"
      ],
      "metadata": {
        "id": "_kqQNkj9Fn7X"
      }
    },
    {
      "cell_type": "markdown",
      "source": [
        "Linear diskriminant analizi birçok matematiksel yöntemle açıklanabilir. Burada Özvektörler ile matematiksel açıklamayı ele alacağız.\n",
        "\n",
        "* LDA  bu yöntemde, sınıflar arasındaki varyansı sınıf içi varyansa oranını maksimize eden W matrisini bulmayı amaçlar. Yani;</br>\n",
        "$argmax(S_B/S_W)$"
      ],
      "metadata": {
        "id": "sYp_d9V0MuIE"
      }
    },
    {
      "cell_type": "markdown",
      "source": [
        "$\\pmb X = \\begin{bmatrix} x_{1_{\\text{sepal length}}} & x_{1_{\\text{sepal width}}} & x_{1_{\\text{petal length}}} & x_{1_{\\text{petal width}}}\\\\\n",
        "x_{2_{\\text{sepal length}}} & x_{2_{\\text{sepal width}}} & x_{2_{\\text{petal length}}} & x_{2_{\\text{petal width}}}\\\\\n",
        "...  \\\\\n",
        "x_{150_{\\text{sepal length}}} & x_{150_{\\text{sepal width}}} & x_{150_{\\text{petal length}}} & x_{150_{\\text{petal width}}}\\\\\n",
        "\\end{bmatrix}, \\;\\;\n",
        "\\pmb y = \\begin{bmatrix} \\omega_{\\text{setosa}}\\\\\n",
        "\\omega_{\\text{setosa}}\\\\\n",
        "...  \\\\\n",
        "\\omega_{\\text{virginica}}\\end{bmatrix}\n",
        "$"
      ],
      "metadata": {
        "id": "nuQVK9cDzPQv"
      }
    },
    {
      "cell_type": "markdown",
      "source": [
        "#Adım 1: d-boyutlu ortalama vektör hesaplama"
      ],
      "metadata": {
        "id": "glhHoGuU0BY4"
      }
    },
    {
      "cell_type": "markdown",
      "source": [
        "Bu ortalama vektörler, özellik uzayındaki her sınıfın \"merkezini\" temsil eder ve sınıf içi ve sınıflar arası dağılım matrislerini hesaplamak için kullanılabilir. "
      ],
      "metadata": {
        "id": "PkwEOPEtMpHm"
      }
    },
    {
      "cell_type": "markdown",
      "source": [
        "$\\pmb m_i = \\begin{bmatrix}\n",
        "\\mu_{\\omega_i (\\text{sepal length)}}\\\\\n",
        "\\mu_{\\omega_i (\\text{sepal width})}\\\\\n",
        "\\mu_{\\omega_i (\\text{petal length)}}\\\\\n",
        "\\mu_{\\omega_i (\\text{petal width})}\\\\\n",
        "\\end{bmatrix} \\; , \\quad \\text{with} \\quad i = 1,2,3\n",
        "$"
      ],
      "metadata": {
        "id": "wSrgAYDR0kjb"
      }
    },
    {
      "cell_type": "code",
      "source": [
        "from sklearn.preprocessing import LabelEncoder\n",
        "# LabelEncoder, Python'daki scikit-learn kitaplığında\n",
        "# kategorik değişkenleri sayısal değerlere kodlamak \n",
        "# için kullanılan bir ön işleme modülüdür.\n",
        "# Amaç: algoritmalar, sınıflandırmada sayısal bekler.\n",
        "X = df.iloc[:, 0:4].values\n",
        "y = df['class'].values\n",
        "enc = LabelEncoder()\n",
        "label_encoder = enc.fit(y)\n",
        "y = label_encoder.transform(y) + 1 #transform ile sayısal değerlere değiştiriyoruz\n",
        "\n",
        "label_dict = {1: 'Iris-setosa', 2: 'Iris-versicolor', 3:'Iris-virginica'}"
      ],
      "metadata": {
        "id": "EAy_yc03kypZ"
      },
      "execution_count": null,
      "outputs": []
    },
    {
      "cell_type": "code",
      "source": [
        "np.set_printoptions(precision=4) # duyarlılık, .'dan sonraki 4 basamak.\n",
        "\n",
        "mean_vectors = []\n",
        "for cl in range(1,4):\n",
        "    mean_vectors.append(np.mean(X[y==cl], axis=0))\n",
        "    print('Mean Vector class %s: %s\\n' %(cl, mean_vectors[cl-1]))"
      ],
      "metadata": {
        "colab": {
          "base_uri": "https://localhost:8080/"
        },
        "id": "HXF2w4Z102SC",
        "outputId": "6f8e9c43-c4aa-4495-b9aa-6ab2a8f5dd44"
      },
      "execution_count": null,
      "outputs": [
        {
          "output_type": "stream",
          "name": "stdout",
          "text": [
            "Mean Vector class 1: [5.006 3.418 1.464 0.244]\n",
            "\n",
            "Mean Vector class 2: [5.936 2.77  4.26  1.326]\n",
            "\n",
            "Mean Vector class 3: [6.588 2.974 5.552 2.026]\n",
            "\n"
          ]
        }
      ]
    },
    {
      "cell_type": "markdown",
      "source": [
        "#Adım 2: Sınıf içi dağılım matrislerini ($S_W$)  hesaplama"
      ],
      "metadata": {
        "id": "DMeNFzop17t9"
      }
    },
    {
      "cell_type": "markdown",
      "source": [
        "Sınıf içi dağılım matrisi, verilerin özellik uzayındaki her sınıf içindeki dağılımını ölçer. Bir sınıftaki her bir veri arasındaki farkın dış örnek (test verisiyle) ile o sınıf için, tüm sınıflar için ortalama vektör toplanarak hesaplanır. Örneğimizde sınıfların (yani 1,2,3 için) kendi içinde dağılım matrisleri hesaplanır. <br>\n",
        "$S_W = \\sum\\limits_{i=1}^{c}  S_i$<br>\n",
        "Her sınıf için ortalama vektörümüz buydu $=>$ $\\pmb m_i = \\frac{1}{n_i} \\sum\\limits_{\\pmb x \\in D_i}^n \\; \\pmb x_k$\n",
        "\n",
        "Tüm sınıflar için $=>$  $S_i = \\sum\\limits_{\\pmb x \\in D_i}^n (\\pmb x - \\pmb m_i)\\;(\\pmb x - \\pmb m_i)^T$"
      ],
      "metadata": {
        "id": "F6BSh0hZ2f2A"
      }
    },
    {
      "cell_type": "code",
      "source": [
        "S_W = np.zeros((4,4))\n",
        "for cl,mv in zip(range(1,4), mean_vectors):\n",
        "    class_sc_mat = np.zeros((4,4))                  # Her sınıf için dağılım matrisi\n",
        "    for row in X[y == cl]:\n",
        "        row, mv = row.reshape(4,1), mv.reshape(4,1) # Kolon vektörleri oluşturma\n",
        "        class_sc_mat += (row-mv).dot((row-mv).T)\n",
        "    S_W += class_sc_mat                             # Dağılım matrislerinin toplanması\n",
        "print('within-class Scatter Matrix:\\n', S_W)"
      ],
      "metadata": {
        "colab": {
          "base_uri": "https://localhost:8080/"
        },
        "id": "BMBRN92j4MV3",
        "outputId": "060f0baa-ae57-4f2d-bb41-effa0b96c178"
      },
      "execution_count": null,
      "outputs": [
        {
          "output_type": "stream",
          "name": "stdout",
          "text": [
            "within-class Scatter Matrix:\n",
            " [[38.9562 13.683  24.614   5.6556]\n",
            " [13.683  17.035   8.12    4.9132]\n",
            " [24.614   8.12   27.22    6.2536]\n",
            " [ 5.6556  4.9132  6.2536  6.1756]]\n"
          ]
        }
      ]
    },
    {
      "cell_type": "markdown",
      "source": [
        "#Adım 3: Sınıflar arası dağılım matrislerini ($S_B$) hesaplama."
      ],
      "metadata": {
        "id": "-ePJRrNd4cS1"
      }
    },
    {
      "cell_type": "markdown",
      "source": [
        "Sınıflar arası dağılım matrisi, verilerin özellik uzayındaki farklı sınıflar arasındaki dağılımını ölçer. Her sınıf için ortalama vektör ile tüm veriler için genel ortalama vektör arasındaki farkın vektörel çarpımının toplanmasıyla hesaplanır.<br>$S_B =  \\sum\\limits_{i=1}^{c} N_{i} (\\pmb m_i - \\pmb m) (\\pmb m_i - \\pmb m)^T\n",
        "$ <br>\n",
        "$m$, tüm sınıfların ortalaması. <br> $m_i$, i. sınıfın/örneğin ortalaması.<br>\n",
        "$N_i$, i. sınıfın/örneğin boyutu."
      ],
      "metadata": {
        "id": "vkVoZ46K4yzi"
      }
    },
    {
      "cell_type": "code",
      "source": [
        "overall_mean = np.mean(X, axis=0)\n",
        "\n",
        "S_B = np.zeros((4,4))\n",
        "for i,mean_vec in enumerate(mean_vectors):  \n",
        "    n = X[y==i+1,:].shape[0] \n",
        "    mean_vec = mean_vec.reshape(4,1) # Kolon vektörleri oluşturma\n",
        "    overall_mean = overall_mean.reshape(4,1) # Kolon vektörleri oluşturma\n",
        "    S_B += n * (mean_vec - overall_mean).dot((mean_vec - overall_mean).T)\n",
        "\n",
        "print('between-class Scatter Matrix:\\n', S_B)"
      ],
      "metadata": {
        "colab": {
          "base_uri": "https://localhost:8080/"
        },
        "id": "UAsc-TSW4xm9",
        "outputId": "a85a0982-d292-4171-d447-4e7e557be16d"
      },
      "execution_count": null,
      "outputs": [
        {
          "output_type": "stream",
          "name": "stdout",
          "text": [
            "between-class Scatter Matrix:\n",
            " [[ 63.2121 -19.534  165.1647  71.3631]\n",
            " [-19.534   10.9776 -56.0552 -22.4924]\n",
            " [165.1647 -56.0552 436.6437 186.9081]\n",
            " [ 71.3631 -22.4924 186.9081  80.6041]]\n"
          ]
        }
      ]
    },
    {
      "cell_type": "markdown",
      "source": [
        "#Adım 4: $S_{W}^{-1}S_B$ matrisi için genelleştirilmiş özdeğer problemi çözme"
      ],
      "metadata": {
        "id": "tdO7aaWw5jby"
      }
    },
    {
      "cell_type": "markdown",
      "source": [
        "* Not: Genelleştirilmiş özdeğer problemi, bir matris üzerinde bir çözüm aramaya yönelik bir matematik problemidir. Özdeğerler, bir matrisin çözümlerini temsil eden sayılardır ve özvektörler, bu çözümleri temsil eden vektördür. Genelleştirilmiş özdeğer problemi, bir matris için bir veya daha fazla özdeğer ve özvektör bulmayı amaçlar.\n",
        "\n"
      ],
      "metadata": {
        "id": "jum-YGfUpLA5"
      }
    },
    {
      "cell_type": "markdown",
      "source": [
        "Doğrusal diskriminant analizinde (LDA) amaç, farklı sınıfları maksimum olarak ayıran özelliklerin doğrusal kombinasyonunu bulmaktır. Bu, sınıflar arası dağılım matrisinin (Sb) sınıf içi dağılım matrisine (Sw) oranını en üst düzeye çıkararak yapılır."
      ],
      "metadata": {
        "id": "4eoXSHqEPrX5"
      }
    },
    {
      "cell_type": "markdown",
      "source": [
        "Genelleştirilmiş özdeğer problemi, bu oranı en üst düzeye çıkaran özelliklerin doğrusal kombinasyonunu çözmek için kullanılır. Genelleştirilmiş özdeğer problemi şu şekilde tanımlanır:"
      ],
      "metadata": {
        "id": "EmH40VH2Pwfy"
      }
    },
    {
      "cell_type": "markdown",
      "source": [
        "# $Av = λBv$ <br>\n",
        "$\\pmb A = S_{W}^{-1}S_B\\\\\n",
        "\\pmb B = \\; \\text{Identity Vector}\\\\\n",
        "\\pmb{v} = \\; \\text{Eigenvector}\\\\\n",
        "\\lambda = \\; \\text{Eigenvalue}$\n"
      ],
      "metadata": {
        "id": "7vOO3BsUQGIm"
      }
    },
    {
      "cell_type": "markdown",
      "source": [
        "Yukarıdaki genelleştirilmiş özdeğer problemini çözerek, $S_{B}$'nin $S_{W}$'ye maksimum oranına karşılık gelen özvektörleri ve özdeğerleri bulabiliriz."
      ],
      "metadata": {
        "id": "8gXQdA2TREWq"
      }
    },
    {
      "cell_type": "markdown",
      "source": [
        "Lineer diskriminantları elde etmek başka bir değişle $S_{W}^{-1}S_B$ matrisi için genelleştirilmiş özdeğer problemini çözeceğiz."
      ],
      "metadata": {
        "id": "vqkP4dK-7DrN"
      }
    },
    {
      "cell_type": "code",
      "source": [
        "eig_vals, eig_vecs = np.linalg.eig(np.linalg.inv(S_W).dot(S_B))\n",
        "\n",
        "for i in range(len(eig_vals)):\n",
        "    eigvec_sc = eig_vecs[:,i].reshape(4,1)   \n",
        "    print('\\nEigenvector {}: \\n{}'.format(i+1, eigvec_sc.real))\n",
        "    print('Eigenvalue {:}: {:.2e}'.format(i+1, eig_vals[i].real))"
      ],
      "metadata": {
        "colab": {
          "base_uri": "https://localhost:8080/"
        },
        "id": "TVcymFED7MwY",
        "outputId": "2e50545a-47d0-4081-96b3-89de2a682128"
      },
      "execution_count": null,
      "outputs": [
        {
          "output_type": "stream",
          "name": "stdout",
          "text": [
            "\n",
            "Eigenvector 1: \n",
            "[[ 0.2049]\n",
            " [ 0.3871]\n",
            " [-0.5465]\n",
            " [-0.7138]]\n",
            "Eigenvalue 1: 3.23e+01\n",
            "\n",
            "Eigenvector 2: \n",
            "[[-0.009 ]\n",
            " [-0.589 ]\n",
            " [ 0.2543]\n",
            " [-0.767 ]]\n",
            "Eigenvalue 2: 2.78e-01\n",
            "\n",
            "Eigenvector 3: \n",
            "[[-0.8379]\n",
            " [ 0.1696]\n",
            " [ 0.1229]\n",
            " [ 0.5041]]\n",
            "Eigenvalue 3: -4.13e-15\n",
            "\n",
            "Eigenvector 4: \n",
            "[[ 0.2   ]\n",
            " [-0.3949]\n",
            " [-0.4567]\n",
            " [ 0.7717]]\n",
            "Eigenvalue 4: 1.20e-14\n"
          ]
        }
      ]
    },
    {
      "cell_type": "markdown",
      "source": [
        "#Not: \n",
        "Hem özvektörler hem de özdeğerler bize doğrusal bir dönüşümün çarpıtılması hakkında bilgi sağlıyor: Özvektörler temel olarak bu bozulmanın yönüdür ve özdeğerler, bozulmanın büyüklüğünü tanımlayan özvektörler için ölçekleme faktörüdür.\n",
        "\n",
        "Boyutsallık azaltma için LDA yapıyorsak, özvektörler önemlidir, çünkü yeni özellik alt uzayımızın yeni eksenlerini oluşturacaklar; ilişkili özdeğerler, yeni \"eksenlerin\" ne kadar \"bilgilendirici\" olduğunu bize söyler."
      ],
      "metadata": {
        "id": "QhOKg0z47mA-"
      }
    },
    {
      "cell_type": "markdown",
      "source": [
        "#Adım 5: Kaybı en az olan özdeğer çifti (eigenvalues pair) seçme"
      ],
      "metadata": {
        "id": "1VdnwJNj7xBI"
      }
    },
    {
      "cell_type": "markdown",
      "source": [
        "Sadece verileri yalnızca sınıf ayrılabilirliğini geliştiren bir alt uzaya yansıtmakla ilgilenmiyoruz, aynı zamanda özellik uzayımızın boyutsallığını da azaltıyoruz (özvektörler bu yeni özellik alt uzayının eksenlerini oluşturacaktır).\n",
        "\n",
        "Bununla birlikte, özvektörler yalnızca yeni eksenin yönlerini tanımlar, çünkü hepsi aynı birim uzunluğu 1'e sahiptir.\n",
        "\n",
        "Bu nedenle, düşük boyutlu alt uzayımız için hangi özvektörleri düşürmek istediğimize karar vermek için, özvektörlerin karşılık gelen özdeğerlerine bir göz atmalıyız. Kabaca konuşursak, en düşük özdeğerlere sahip özvektörler, verilerin dağılımı hakkında en az bilgiyi taşır ve bunlar bırakmak istediklerimizdir.\n",
        "Kısaca, özvektörleri en yüksekten en düşük karşılık gelen özdeğere doğru sıralamak ve en üstteki $k$ özvektörünü seçmektir."
      ],
      "metadata": {
        "id": "BsEOx0As8F8S"
      }
    },
    {
      "cell_type": "code",
      "source": [
        "# (eigenvalue, eigenvector) tuple list'i yapma\n",
        "eig_pairs = [(np.abs(eig_vals[i]), eig_vecs[:,i]) for i in range(len(eig_vals))]\n",
        "\n",
        "# (eigenvalue, eigenvector) tuple'ını çoktan aza sıralama\n",
        "eig_pairs = sorted(eig_pairs, key=lambda k: k[0], reverse=True)\n",
        "\n",
        "# Azalan sıradaki özdeğerleri doğru bir şekilde sıraladık mı?\n",
        "print('Eigenvalues in decreasing order:\\n')\n",
        "for i in eig_pairs:\n",
        "    print(i[0])"
      ],
      "metadata": {
        "colab": {
          "base_uri": "https://localhost:8080/"
        },
        "id": "fJHkMkwS8IfI",
        "outputId": "3f8c3bbe-fca0-4087-9049-930eee032bb1"
      },
      "execution_count": null,
      "outputs": [
        {
          "output_type": "stream",
          "name": "stdout",
          "text": [
            "Eigenvalues in decreasing order:\n",
            "\n",
            "32.27195779972981\n",
            "0.27756686384004264\n",
            "1.1953730364935478e-14\n",
            "4.1311796919088535e-15\n"
          ]
        }
      ]
    },
    {
      "cell_type": "markdown",
      "source": [
        "İlk özdeğer çifti (eigenvalues) açık ara en bilgilendirici olanıdır ve bu özdeğer çiftine dayalı bir 1 boyutlu özellik aralığı oluşturursak fazla bilgi kaybetmeyiz. (Boyut indirgeme kastediliyor)"
      ],
      "metadata": {
        "id": "QNmrDNc6VBM3"
      }
    },
    {
      "cell_type": "markdown",
      "source": [
        "#Adım 6: en yüksek özdeğere sahip k özvektörleri seçme"
      ],
      "metadata": {
        "id": "VVR5EQJK84HM"
      }
    },
    {
      "cell_type": "markdown",
      "source": [
        "Özdeğerleri azaltarak özçiftleri sıraladıktan sonra, $d \\times k$ boyutlu \n",
        " özdeğer vektörünü $\\pmb W$ oluşturmanın zamanı geldi. $\\pmb W$ (burada $4 \\times 2$ boyutlu: 2, özdeğer çiftleri), ilk 4 boyutlu özellik uzayını 2 (kaybı en az olacak şekilde bilgilendirecek özdeğer çiftindeki değerlerdir) boyutlu bir özellik alt uzayına indirger."
      ],
      "metadata": {
        "id": "OKx9Vy9T8_AY"
      }
    },
    {
      "cell_type": "code",
      "source": [
        "W = np.hstack((eig_pairs[0][1].reshape(4,1), eig_pairs[1][1].reshape(4,1)))\n",
        "print('Matrix W:\\n', W.real)"
      ],
      "metadata": {
        "colab": {
          "base_uri": "https://localhost:8080/"
        },
        "id": "qIWF0xWR_bZi",
        "outputId": "072f0e98-a1af-4baf-f8e7-8405f1119053"
      },
      "execution_count": null,
      "outputs": [
        {
          "output_type": "stream",
          "name": "stdout",
          "text": [
            "Matrix W:\n",
            " [[ 0.2049 -0.009 ]\n",
            " [ 0.3871 -0.589 ]\n",
            " [-0.5465  0.2543]\n",
            " [-0.7138 -0.767 ]]\n"
          ]
        }
      ]
    },
    {
      "cell_type": "markdown",
      "source": [
        "#Son Adım: $4\\times 2$ boyutlu özdeğer matrisi $\\pmb W$ kullanılarak alt uzay oluşturma"
      ],
      "metadata": {
        "id": "PVc5Pzo5_fQ1"
      }
    },
    {
      "cell_type": "markdown",
      "source": [
        "$\\pmb Y = \\pmb X \\times \\pmb W$\n"
      ],
      "metadata": {
        "id": "OdMlXP07ANg1"
      }
    },
    {
      "cell_type": "markdown",
      "source": [
        "$\\pmb X$, n örneğe sahip $n \\times d$ boyutlu matrisi temsil ediyor ve $\\pmb Y$, $n \\times k$ boyutlu yeni örnek alt uzayı temsil ediyor.\n"
      ],
      "metadata": {
        "id": "7i2-VfVhAbZY"
      }
    },
    {
      "cell_type": "code",
      "source": [
        "X_lda = X.dot(W)\n",
        "assert X_lda.shape == (150,2), \"The matrix is not 150x2 dimensional.\""
      ],
      "metadata": {
        "id": "g_ErYTBMBoWw"
      },
      "execution_count": null,
      "outputs": []
    },
    {
      "cell_type": "code",
      "source": [
        "from matplotlib import pyplot as plt\n",
        "\n",
        "\n",
        "ax = plt.subplot(111)\n",
        "for label,marker,color in zip(\n",
        "    range(1,4),('^', 's', 'o'),('blue', 'red', 'green')):\n",
        "\n",
        "    plt.scatter(x=X_lda[:,0].real[y == label],\n",
        "                y=X_lda[:,1].real[y == label],\n",
        "                marker=marker,\n",
        "                color=color,\n",
        "                alpha=0.5,\n",
        "                label=label_dict[label]\n",
        "                )\n",
        "\n",
        "plt.xlabel('LD1')\n",
        "plt.ylabel('LD2')\n",
        "\n",
        "leg = plt.legend(loc='upper right', fancybox=True)\n",
        "leg.get_frame().set_alpha(0.5)\n",
        "plt.title('LDA: Iris projection onto the first 2 linear discriminants')\n",
        "plt.grid()\n",
        "plt.tight_layout()\n",
        "plt.show()\n"
      ],
      "metadata": {
        "colab": {
          "base_uri": "https://localhost:8080/",
          "height": 295
        },
        "id": "7sukbPgRBFP1",
        "outputId": "83855085-41a2-4989-f979-e92c886ca3e9"
      },
      "execution_count": null,
      "outputs": [
        {
          "output_type": "display_data",
          "data": {
            "text/plain": [
              "<Figure size 432x288 with 1 Axes>"
            ],
            "image/png": "[encoded data removed]"
          },
          "metadata": {
            "needs_background": "light"
          }
        }
      ]
    },
    {
      "cell_type": "code",
      "source": [
        "from sklearn.model_selection import train_test_split\n",
        "X_train, X_test, y_train, y_test = train_test_split(X, y, test_size=0.2, random_state=4)\n",
        "\n",
        "print('Train kümesinde {} örnek var test kümesinde {} örnek var'.format(X_train.shape[0], X_test.shape[0]))\n"
      ],
      "metadata": {
        "colab": {
          "base_uri": "https://localhost:8080/"
        },
        "id": "LR88OI35GrZT",
        "outputId": "807543a0-2475-4cab-a1b4-4a6c6ef0306f"
      },
      "execution_count": null,
      "outputs": [
        {
          "output_type": "stream",
          "name": "stdout",
          "text": [
            "Train kümesinde 120 örnek var test kümesinde 30 örnek var\n"
          ]
        }
      ]
    },
    {
      "cell_type": "markdown",
      "source": [
        "* *Dependent variable*: Problemde tahmin etmek istediğimiz ana değişkendir.\n",
        "* *Independent variable*: Bağımlı değişkeni tahmin etmemize yardımcı olan değişkendir."
      ],
      "metadata": {
        "id": "MeQbSgfO9qNm"
      }
    },
    {
      "cell_type": "code",
      "source": [
        "import pandas as pd\n",
        "import numpy as np\n",
        "from sklearn import datasets\n",
        "\n",
        "url = \"https://archive.ics.uci.edu/ml/machine-learning-databases/iris/iris.data\"\n",
        "cls = ['sepal-length', 'sepal-width', 'petal-length', 'petal-width', 'class']\n",
        "\n",
        "iris_df = pd.read_csv(url, names=cls)\n",
        "\n",
        "iris_df.tail()"
      ],
      "metadata": {
        "colab": {
          "base_uri": "https://localhost:8080/",
          "height": 206
        },
        "id": "6G33YUQA3JIQ",
        "outputId": "d776a838-e805-4c33-d27c-a38ab7ed3b8b"
      },
      "execution_count": null,
      "outputs": [
        {
          "output_type": "execute_result",
          "data": {
            "text/plain": [
              "     sepal-length  sepal-width  petal-length  petal-width           class\n",
              "145           6.7          3.0           5.2          2.3  Iris-virginica\n",
              "146           6.3          2.5           5.0          1.9  Iris-virginica\n",
              "147           6.5          3.0           5.2          2.0  Iris-virginica\n",
              "148           6.2          3.4           5.4          2.3  Iris-virginica\n",
              "149           5.9          3.0           5.1          1.8  Iris-virginica"
            ],
            "text/html": [
              "\n",
              "  <div id=\"df-8748824a-6eb6-4616-9819-98c74b9cdf1e\">\n",
              "    <div class=\"colab-df-container\">\n",
              "      <div>\n",
              "<style scoped>\n",
              "    .dataframe tbody tr th:only-of-type {\n",
              "        vertical-align: middle;\n",
              "    }\n",
              "\n",
              "    .dataframe tbody tr th {\n",
              "        vertical-align: top;\n",
              "    }\n",
              "\n",
              "    .dataframe thead th {\n",
              "        text-align: right;\n",
              "    }\n",
              "</style>\n",
              "<table border=\"1\" class=\"dataframe\">\n",
              "  <thead>\n",
              "    <tr style=\"text-align: right;\">\n",
              "      <th></th>\n",
              "      <th>sepal-length</th>\n",
              "      <th>sepal-width</th>\n",
              "      <th>petal-length</th>\n",
              "      <th>petal-width</th>\n",
              "      <th>class</th>\n",
              "    </tr>\n",
              "  </thead>\n",
              "  <tbody>\n",
              "    <tr>\n",
              "      <th>145</th>\n",
              "      <td>6.7</td>\n",
              "      <td>3.0</td>\n",
              "      <td>5.2</td>\n",
              "      <td>2.3</td>\n",
              "      <td>Iris-virginica</td>\n",
              "    </tr>\n",
              "    <tr>\n",
              "      <th>146</th>\n",
              "      <td>6.3</td>\n",
              "      <td>2.5</td>\n",
              "      <td>5.0</td>\n",
              "      <td>1.9</td>\n",
              "      <td>Iris-virginica</td>\n",
              "    </tr>\n",
              "    <tr>\n",
              "      <th>147</th>\n",
              "      <td>6.5</td>\n",
              "      <td>3.0</td>\n",
              "      <td>5.2</td>\n",
              "      <td>2.0</td>\n",
              "      <td>Iris-virginica</td>\n",
              "    </tr>\n",
              "    <tr>\n",
              "      <th>148</th>\n",
              "      <td>6.2</td>\n",
              "      <td>3.4</td>\n",
              "      <td>5.4</td>\n",
              "      <td>2.3</td>\n",
              "      <td>Iris-virginica</td>\n",
              "    </tr>\n",
              "    <tr>\n",
              "      <th>149</th>\n",
              "      <td>5.9</td>\n",
              "      <td>3.0</td>\n",
              "      <td>5.1</td>\n",
              "      <td>1.8</td>\n",
              "      <td>Iris-virginica</td>\n",
              "    </tr>\n",
              "  </tbody>\n",
              "</table>\n",
              "</div>\n",
              "      <button class=\"colab-df-convert\" onclick=\"convertToInteractive('df-8748824a-6eb6-4616-9819-98c74b9cdf1e')\"\n",
              "              title=\"Convert this dataframe to an interactive table.\"\n",
              "              style=\"display:none;\">\n",
              "        \n",
              "  <svg xmlns=\"http://www.w3.org/2000/svg\" height=\"24px\"viewBox=\"0 0 24 24\"\n",
              "       width=\"24px\">\n",
              "    <path d=\"M0 0h24v24H0V0z\" fill=\"none\"/>\n",
              "    <path d=\"M18.56 5.44l.94 2.06.94-2.06 2.06-.94-2.06-.94-.94-2.06-.94 2.06-2.06.94zm-11 1L8.5 8.5l.94-2.06 2.06-.94-2.06-.94L8.5 2.5l-.94 2.06-2.06.94zm10 10l.94 2.06.94-2.06 2.06-.94-2.06-.94-.94-2.06-.94 2.06-2.06.94z\"/><path d=\"M17.41 7.96l-1.37-1.37c-.4-.4-.92-.59-1.43-.59-.52 0-1.04.2-1.43.59L10.3 9.45l-7.72 7.72c-.78.78-.78 2.05 0 2.83L4 21.41c.39.39.9.59 1.41.59.51 0 1.02-.2 1.41-.59l7.78-7.78 2.81-2.81c.8-.78.8-2.07 0-2.86zM5.41 20L4 18.59l7.72-7.72 1.47 1.35L5.41 20z\"/>\n",
              "  </svg>\n",
              "      </button>\n",
              "      \n",
              "  <style>\n",
              "    .colab-df-container {\n",
              "      display:flex;\n",
              "      flex-wrap:wrap;\n",
              "      gap: 12px;\n",
              "    }\n",
              "\n",
              "    .colab-df-convert {\n",
              "      background-color: #E8F0FE;\n",
              "      border: none;\n",
              "      border-radius: 50%;\n",
              "      cursor: pointer;\n",
              "      display: none;\n",
              "      fill: #1967D2;\n",
              "      height: 32px;\n",
              "      padding: 0 0 0 0;\n",
              "      width: 32px;\n",
              "    }\n",
              "\n",
              "    .colab-df-convert:hover {\n",
              "      background-color: #E2EBFA;\n",
              "      box-shadow: 0px 1px 2px rgba(60, 64, 67, 0.3), 0px 1px 3px 1px rgba(60, 64, 67, 0.15);\n",
              "      fill: #174EA6;\n",
              "    }\n",
              "\n",
              "    [theme=dark] .colab-df-convert {\n",
              "      background-color: #3B4455;\n",
              "      fill: #D2E3FC;\n",
              "    }\n",
              "\n",
              "    [theme=dark] .colab-df-convert:hover {\n",
              "      background-color: #434B5C;\n",
              "      box-shadow: 0px 1px 3px 1px rgba(0, 0, 0, 0.15);\n",
              "      filter: drop-shadow(0px 1px 2px rgba(0, 0, 0, 0.3));\n",
              "      fill: #FFFFFF;\n",
              "    }\n",
              "  </style>\n",
              "\n",
              "      <script>\n",
              "        const buttonEl =\n",
              "          document.querySelector('#df-8748824a-6eb6-4616-9819-98c74b9cdf1e button.colab-df-convert');\n",
              "        buttonEl.style.display =\n",
              "          google.colab.kernel.accessAllowed ? 'block' : 'none';\n",
              "\n",
              "        async function convertToInteractive(key) {\n",
              "          const element = document.querySelector('#df-8748824a-6eb6-4616-9819-98c74b9cdf1e');\n",
              "          const dataTable =\n",
              "            await google.colab.kernel.invokeFunction('convertToInteractive',\n",
              "                                                     [key], {});\n",
              "          if (!dataTable) return;\n",
              "\n",
              "          const docLinkHtml = 'Like what you see? Visit the ' +\n",
              "            '<a target=\"_blank\" href=https://colab.research.google.com/notebooks/data_table.ipynb>data table notebook</a>'\n",
              "            + ' to learn more about interactive tables.';\n",
              "          element.innerHTML = '';\n",
              "          dataTable['output_type'] = 'display_data';\n",
              "          await google.colab.output.renderOutput(dataTable, element);\n",
              "          const docLink = document.createElement('div');\n",
              "          docLink.innerHTML = docLinkHtml;\n",
              "          element.appendChild(docLink);\n",
              "        }\n",
              "      </script>\n",
              "    </div>\n",
              "  </div>\n",
              "  "
            ]
          },
          "metadata": {},
          "execution_count": 14
        }
      ]
    },
    {
      "cell_type": "code",
      "source": [
        "iris_df.groupby('class').size()"
      ],
      "metadata": {
        "colab": {
          "base_uri": "https://localhost:8080/"
        },
        "id": "nxkg-tSD3IKb",
        "outputId": "844a1f43-7c20-415d-81cf-af5aa46cc7ab"
      },
      "execution_count": null,
      "outputs": [
        {
          "output_type": "execute_result",
          "data": {
            "text/plain": [
              "class\n",
              "Iris-setosa        50\n",
              "Iris-versicolor    50\n",
              "Iris-virginica     50\n",
              "dtype: int64"
            ]
          },
          "metadata": {},
          "execution_count": 15
        }
      ]
    },
    {
      "cell_type": "code",
      "source": [
        "iris_df.describe()"
      ],
      "metadata": {
        "colab": {
          "base_uri": "https://localhost:8080/",
          "height": 300
        },
        "id": "0wL5WFM_3G8d",
        "outputId": "6c999016-64ec-4a65-a717-d37f224ea4ed"
      },
      "execution_count": null,
      "outputs": [
        {
          "output_type": "execute_result",
          "data": {
            "text/plain": [
              "       sepal-length  sepal-width  petal-length  petal-width\n",
              "count    150.000000   150.000000    150.000000   150.000000\n",
              "mean       5.843333     3.054000      3.758667     1.198667\n",
              "std        0.828066     0.433594      1.764420     0.763161\n",
              "min        4.300000     2.000000      1.000000     0.100000\n",
              "25%        5.100000     2.800000      1.600000     0.300000\n",
              "50%        5.800000     3.000000      4.350000     1.300000\n",
              "75%        6.400000     3.300000      5.100000     1.800000\n",
              "max        7.900000     4.400000      6.900000     2.500000"
            ],
            "text/html": [
              "\n",
              "  <div id=\"df-6dcc2980-5da9-4b9d-bbaa-bd77a1e1bee1\">\n",
              "    <div class=\"colab-df-container\">\n",
              "      <div>\n",
              "<style scoped>\n",
              "    .dataframe tbody tr th:only-of-type {\n",
              "        vertical-align: middle;\n",
              "    }\n",
              "\n",
              "    .dataframe tbody tr th {\n",
              "        vertical-align: top;\n",
              "    }\n",
              "\n",
              "    .dataframe thead th {\n",
              "        text-align: right;\n",
              "    }\n",
              "</style>\n",
              "<table border=\"1\" class=\"dataframe\">\n",
              "  <thead>\n",
              "    <tr style=\"text-align: right;\">\n",
              "      <th></th>\n",
              "      <th>sepal-length</th>\n",
              "      <th>sepal-width</th>\n",
              "      <th>petal-length</th>\n",
              "      <th>petal-width</th>\n",
              "    </tr>\n",
              "  </thead>\n",
              "  <tbody>\n",
              "    <tr>\n",
              "      <th>count</th>\n",
              "      <td>150.000000</td>\n",
              "      <td>150.000000</td>\n",
              "      <td>150.000000</td>\n",
              "      <td>150.000000</td>\n",
              "    </tr>\n",
              "    <tr>\n",
              "      <th>mean</th>\n",
              "      <td>5.843333</td>\n",
              "      <td>3.054000</td>\n",
              "      <td>3.758667</td>\n",
              "      <td>1.198667</td>\n",
              "    </tr>\n",
              "    <tr>\n",
              "      <th>std</th>\n",
              "      <td>0.828066</td>\n",
              "      <td>0.433594</td>\n",
              "      <td>1.764420</td>\n",
              "      <td>0.763161</td>\n",
              "    </tr>\n",
              "    <tr>\n",
              "      <th>min</th>\n",
              "      <td>4.300000</td>\n",
              "      <td>2.000000</td>\n",
              "      <td>1.000000</td>\n",
              "      <td>0.100000</td>\n",
              "    </tr>\n",
              "    <tr>\n",
              "      <th>25%</th>\n",
              "      <td>5.100000</td>\n",
              "      <td>2.800000</td>\n",
              "      <td>1.600000</td>\n",
              "      <td>0.300000</td>\n",
              "    </tr>\n",
              "    <tr>\n",
              "      <th>50%</th>\n",
              "      <td>5.800000</td>\n",
              "      <td>3.000000</td>\n",
              "      <td>4.350000</td>\n",
              "      <td>1.300000</td>\n",
              "    </tr>\n",
              "    <tr>\n",
              "      <th>75%</th>\n",
              "      <td>6.400000</td>\n",
              "      <td>3.300000</td>\n",
              "      <td>5.100000</td>\n",
              "      <td>1.800000</td>\n",
              "    </tr>\n",
              "    <tr>\n",
              "      <th>max</th>\n",
              "      <td>7.900000</td>\n",
              "      <td>4.400000</td>\n",
              "      <td>6.900000</td>\n",
              "      <td>2.500000</td>\n",
              "    </tr>\n",
              "  </tbody>\n",
              "</table>\n",
              "</div>\n",
              "      <button class=\"colab-df-convert\" onclick=\"convertToInteractive('df-6dcc2980-5da9-4b9d-bbaa-bd77a1e1bee1')\"\n",
              "              title=\"Convert this dataframe to an interactive table.\"\n",
              "              style=\"display:none;\">\n",
              "        \n",
              "  <svg xmlns=\"http://www.w3.org/2000/svg\" height=\"24px\"viewBox=\"0 0 24 24\"\n",
              "       width=\"24px\">\n",
              "    <path d=\"M0 0h24v24H0V0z\" fill=\"none\"/>\n",
              "    <path d=\"M18.56 5.44l.94 2.06.94-2.06 2.06-.94-2.06-.94-.94-2.06-.94 2.06-2.06.94zm-11 1L8.5 8.5l.94-2.06 2.06-.94-2.06-.94L8.5 2.5l-.94 2.06-2.06.94zm10 10l.94 2.06.94-2.06 2.06-.94-2.06-.94-.94-2.06-.94 2.06-2.06.94z\"/><path d=\"M17.41 7.96l-1.37-1.37c-.4-.4-.92-.59-1.43-.59-.52 0-1.04.2-1.43.59L10.3 9.45l-7.72 7.72c-.78.78-.78 2.05 0 2.83L4 21.41c.39.39.9.59 1.41.59.51 0 1.02-.2 1.41-.59l7.78-7.78 2.81-2.81c.8-.78.8-2.07 0-2.86zM5.41 20L4 18.59l7.72-7.72 1.47 1.35L5.41 20z\"/>\n",
              "  </svg>\n",
              "      </button>\n",
              "      \n",
              "  <style>\n",
              "    .colab-df-container {\n",
              "      display:flex;\n",
              "      flex-wrap:wrap;\n",
              "      gap: 12px;\n",
              "    }\n",
              "\n",
              "    .colab-df-convert {\n",
              "      background-color: #E8F0FE;\n",
              "      border: none;\n",
              "      border-radius: 50%;\n",
              "      cursor: pointer;\n",
              "      display: none;\n",
              "      fill: #1967D2;\n",
              "      height: 32px;\n",
              "      padding: 0 0 0 0;\n",
              "      width: 32px;\n",
              "    }\n",
              "\n",
              "    .colab-df-convert:hover {\n",
              "      background-color: #E2EBFA;\n",
              "      box-shadow: 0px 1px 2px rgba(60, 64, 67, 0.3), 0px 1px 3px 1px rgba(60, 64, 67, 0.15);\n",
              "      fill: #174EA6;\n",
              "    }\n",
              "\n",
              "    [theme=dark] .colab-df-convert {\n",
              "      background-color: #3B4455;\n",
              "      fill: #D2E3FC;\n",
              "    }\n",
              "\n",
              "    [theme=dark] .colab-df-convert:hover {\n",
              "      background-color: #434B5C;\n",
              "      box-shadow: 0px 1px 3px 1px rgba(0, 0, 0, 0.15);\n",
              "      filter: drop-shadow(0px 1px 2px rgba(0, 0, 0, 0.3));\n",
              "      fill: #FFFFFF;\n",
              "    }\n",
              "  </style>\n",
              "\n",
              "      <script>\n",
              "        const buttonEl =\n",
              "          document.querySelector('#df-6dcc2980-5da9-4b9d-bbaa-bd77a1e1bee1 button.colab-df-convert');\n",
              "        buttonEl.style.display =\n",
              "          google.colab.kernel.accessAllowed ? 'block' : 'none';\n",
              "\n",
              "        async function convertToInteractive(key) {\n",
              "          const element = document.querySelector('#df-6dcc2980-5da9-4b9d-bbaa-bd77a1e1bee1');\n",
              "          const dataTable =\n",
              "            await google.colab.kernel.invokeFunction('convertToInteractive',\n",
              "                                                     [key], {});\n",
              "          if (!dataTable) return;\n",
              "\n",
              "          const docLinkHtml = 'Like what you see? Visit the ' +\n",
              "            '<a target=\"_blank\" href=https://colab.research.google.com/notebooks/data_table.ipynb>data table notebook</a>'\n",
              "            + ' to learn more about interactive tables.';\n",
              "          element.innerHTML = '';\n",
              "          dataTable['output_type'] = 'display_data';\n",
              "          await google.colab.output.renderOutput(dataTable, element);\n",
              "          const docLink = document.createElement('div');\n",
              "          docLink.innerHTML = docLinkHtml;\n",
              "          element.appendChild(docLink);\n",
              "        }\n",
              "      </script>\n",
              "    </div>\n",
              "  </div>\n",
              "  "
            ]
          },
          "metadata": {},
          "execution_count": 16
        }
      ]
    },
    {
      "cell_type": "code",
      "source": [
        "from sklearn.preprocessing import LabelEncoder\n",
        "\n",
        "X_iris = iris_df.iloc[:, 0:4].values\n",
        "y_iris = iris_df['class'].values\n",
        "encoder = LabelEncoder()\n",
        "labelencoder = encoder.fit(y_iris)\n",
        "y_iris = label_encoder.transform(y_iris) + 1\n",
        "\n",
        "label_dict_iris = {1: 'Iris-setosa', 2: 'Iris-versicolor', 3:'Iris-virginica'}"
      ],
      "metadata": {
        "id": "hU-y8vZx2c3F"
      },
      "execution_count": null,
      "outputs": []
    },
    {
      "cell_type": "markdown",
      "source": [
        "# Train/Test olarak veri setimi ayırma\n",
        "Örneklem dışı doğruluk (Out of Sample Accuracy), modelin test verilerinin üzerinde yaptığı doğru tahminlerin yüzdesidir. Aynı veri üzerinden test ve train kümelerini birbirini dışlamadan bölmek aşırı uydurmaya (overfitting) sebep olur. Dışlamadan hazırlanan verinin örneklem dışı doğruluğu %100 civarında olur, aksi durumun en kabul edilebilir değeri %70 civarıdır. \n",
        "\n",
        "test_size=0.2, veri setini %20 test %80 modeli eğitmek için ayırır. \n",
        "\n",
        "random_state=4 olduğunda veri seti benzersiz bir şekilde rastgele ayrılır. Eğer random_state=5 olduğunda bir öncekinden farklı 5'e özgü şekilde rastgele ayrılır. Bu, veri kümesinin rastgele bölünmesinin istikrarlı ve kontrol edilebilir hale gelmesini sağlar."
      ],
      "metadata": {
        "id": "2XJ_mTqp-voW"
      }
    },
    {
      "cell_type": "code",
      "source": [
        "from sklearn.discriminant_analysis import LinearDiscriminantAnalysis as LDA\n",
        "from sklearn import preprocessing\n",
        "\n",
        "X_lda = preprocessing.StandardScaler().fit(X_iris).transform(X_iris.astype(float))\n",
        "X_train_lda, X_test_lda, y_train_lda, y_test_lda = train_test_split( X_lda, y, test_size=0.2, random_state=4)\n",
        "\n",
        "lda_1 = LDA()\n",
        "lda_1.fit(X_train_lda, y_train_lda)\n",
        "yhat = lda_1.predict(X_test_lda)"
      ],
      "metadata": {
        "id": "oBcR1hV-b-qX"
      },
      "execution_count": null,
      "outputs": []
    },
    {
      "cell_type": "markdown",
      "source": [
        "## Modelimiz tahminlerde ne kadar başarılı?\n",
        "\n",
        "* Sınıflandırmada <font color = red>doğruluk sınıflandırma puanı (accuracy_score)</font>, alt küme doğruluğunu hesaplayan bir fonksiyondur. Bu işlev, <font color = red>jaccard_score</font> işlevine eşittir. İki kümenin benzerlik oranını ölçmek için kullanılan bir metriktir.\n",
        "\n",
        "* <font color = red>Karışıklık matrisi (Confusion matrix)</font>, doğru tahminler (True Positive) ve yanlış tahminler (False Positive) bulundurur. Örneğin aşağıda 3 etiketli sınıf, test verisi içerisinden 0 tanesinde 1 sınıfı olarak yanlış tahmin edildi, 0 tanesinde 2 etiketli sınıf olarak yanlış tahmin edildi, 8 tanesinde 3 etiketli sınıf olarak doğru tahmin edildi.\n",
        "\n",
        "\n",
        "* <font color = red>Kesinlik (precision)</font>, bir sınıflandırma modelinin doğru olarak sınıflandırdığı pozitif örneklerin toplam pozitif örneklerin sayısına oranıdır. \n",
        "\n",
        "      precision = TP / (TP + FP)\n",
        "\n",
        "* <font color = red>Duyarlılık (recall)</font>, bir sınıflandırma modelinin doğru olarak sınıflandırdığı negatif örneklerin toplam negatif örneklerin sayısına oranıdır. \n",
        "\n",
        "      recall = TN / (TN + FN)\n",
        "\n",
        "\n",
        "* <font color = red>F1 Skor (F1 Score)</font>, bir performans metriğidir ve bir sınıflandırma modelinin doğruluk ve duyarlılığının birleştirilmiş bir ölçüsü olarak kullanılır. \n",
        "\n",
        "      F1 = 2 * (accuracy * recall) / (accuracy + recall)\n",
        "* <font color = red>Destek (support)</font>, test veri setinde o sınıftan kaç tane bulunduğunu gösterir. \n",
        "\n",
        "Bu değerler, modelin başarısını değerlendirmede kullanılabilecek önemli ipuçları sağlar. Uygulandığı duruma göre farklı anlamdırılır."
      ],
      "metadata": {
        "id": "6i_Jodsb5g8w"
      }
    },
    {
      "cell_type": "code",
      "source": [
        "import seaborn as sns\n",
        "from sklearn.metrics import classification_report, confusion_matrix\n",
        "\n",
        "classes_names = ['1','2','3']\n",
        "cm = pd.DataFrame(confusion_matrix(y_test_lda, yhat), \n",
        "                  columns=classes_names, index = classes_names)\n",
        "                  \n",
        "sns.heatmap(cm, annot=True, fmt='d');\n",
        "\n",
        "print(classification_report(y_test_lda, yhat))"
      ],
      "metadata": {
        "colab": {
          "base_uri": "https://localhost:8080/",
          "height": 451
        },
        "id": "mpn__URZ48EC",
        "outputId": "3e6e7f73-e69d-48f7-8b18-e4c5cb8d5d7a"
      },
      "execution_count": null,
      "outputs": [
        {
          "output_type": "stream",
          "name": "stdout",
          "text": [
            "              precision    recall  f1-score   support\n",
            "\n",
            "           1       1.00      1.00      1.00        16\n",
            "           2       0.80      0.80      0.80         5\n",
            "           3       0.89      0.89      0.89         9\n",
            "\n",
            "    accuracy                           0.93        30\n",
            "   macro avg       0.90      0.90      0.90        30\n",
            "weighted avg       0.93      0.93      0.93        30\n",
            "\n"
          ]
        },
        {
          "output_type": "display_data",
          "data": {
            "text/plain": [
              "<Figure size 432x288 with 2 Axes>"
            ],
            "image/png": "[encoded data removed]"
          },
          "metadata": {
            "needs_background": "light"
          }
        }
      ]
    },
    {
      "cell_type": "markdown",
      "metadata": {
        "button": false,
        "new_sheet": false,
        "run_control": {
          "read_only": false
        },
        "id": "RH9aom881atx"
      },
      "source": [
        "\n",
        "# **K-Nearest Neighbors**\n",
        "\n",
        "**k-NN** olarak da bilinen **k-en yakın komşu** algoritması, bireysel bir veri noktasının gruplandırılması hakkında sınıflandırmalar veya tahminler yapmak için **yakınlığı** kullanan, **denetimli (supervised)** bir öğrenme sınıflandırıcısıdır.\n"
      ]
    },
    {
      "cell_type": "markdown",
      "metadata": {
        "button": false,
        "new_sheet": false,
        "run_control": {
          "read_only": false
        },
        "id": "fLDB0XhG1atz"
      },
      "source": [
        "Algoritmanın amacı bir veri noktasının sınıfını tahmin etmektir. Tahmin işlemini en yakın veri noktalarının çoğunluğunun ait olduğu sınıfı seçerek sağlar. \n"
      ]
    },
    {
      "cell_type": "markdown",
      "metadata": {
        "button": false,
        "new_sheet": false,
        "run_control": {
          "read_only": false
        },
        "id": "cWcuYRV31at1"
      },
      "source": [
        " Aşağıdaki grafikte birtakım veriler ve sahip oldukları <font color = yellow> A </font> ve <font color = purple> B </font> sınıfları bulunuyor. Yıldız yeni veri noktasını temsil etmektedir. Algoritmanın isminde de yer alan k değeri, veriye en yakın k tane noktayı gösterir. k=3 için yıldızımız <font color = purple> B </font> sınıfı tahmin elde ederiz, k = 6 için <font color = yellow> A </font> sınıfı tahmin elde ederiz.\n"
      ]
    },
    {
      "cell_type": "markdown",
      "metadata": {
        "button": false,
        "new_sheet": false,
        "run_control": {
          "read_only": false
        },
        "id": "3u_NVtBd1at3"
      },
      "source": [
        "#### K-En Yakın Komşu algoritmasının görselleştirmesi\n",
        "\n",
        "<img src=\"https://i.hizliresim.com/2tlip6g.png\" width = \"500\" >"
      ]
    },
    {
      "cell_type": "markdown",
      "metadata": {
        "id": "F_AJWctO1at4"
      },
      "source": [
        "\n",
        "### Algoritmadaki problemler:\n",
        "\n",
        "<ol>\n",
        "<li>k'nın en iyi değerinin seçimi</a></li>\n",
        "<li>Yeni veri noktası ile komşu veri noktalarının arasındaki benzerlik için kullanılacak mesafelerin nasıl hesaplanacağı</a></li>\n",
        "</ol>"
      ]
    },
    {
      "cell_type": "markdown",
      "metadata": {
        "id": "cYPRwrxs1at6"
      },
      "source": [
        "<hr>"
      ]
    },
    {
      "cell_type": "markdown",
      "metadata": {
        "id": "_FYcroIP1at8"
      },
      "source": [
        "Bilinmeyen vakaların sınıfını tahmin etmek için bir sınıflandırıcı oluşturulur. K en yakın komşu adı verilen makine öğrenme metodu ile LDA ile boyut azaltarak modelimizi iyileştireceğiz."
      ]
    },
    {
      "cell_type": "code",
      "execution_count": null,
      "metadata": {
        "button": false,
        "new_sheet": false,
        "run_control": {
          "read_only": false
        },
        "id": "7L3mcOib1auC"
      },
      "outputs": [],
      "source": [
        "url = \"https://archive.ics.uci.edu/ml/machine-learning-databases/iris/iris.data\"\n",
        "cls = ['sepal-length', 'sepal-width', 'petal-length', 'petal-width', 'class']\n",
        "\n",
        "iris_df_knn_lda_1 = pd.read_csv(url, names=cls)\n",
        "X_iris_knn_lda_1 = iris_df_knn_lda_1.iloc[:, 0:4].values\n",
        "y_iris_knn_lda_1 = iris_df_knn_lda_1['class'].values\n",
        "encoder = LabelEncoder()\n",
        "labelencoder = encoder.fit(y_iris_knn_lda_1)\n",
        "y_iris_knn_lda_1 = label_encoder.transform(y_iris_knn_lda_1) + 1\n",
        "\n",
        "label_dict_iris_knn = {1: 'Iris-setosa', 2: 'Iris-versicolor', 3:'Iris-virginica'}"
      ]
    },
    {
      "cell_type": "markdown",
      "metadata": {
        "button": false,
        "new_sheet": false,
        "run_control": {
          "read_only": false
        },
        "id": "fK6J4OhL1auO"
      },
      "source": [
        "## Normalize Etme"
      ]
    },
    {
      "cell_type": "markdown",
      "metadata": {
        "button": false,
        "new_sheet": false,
        "run_control": {
          "read_only": false
        },
        "id": "aO3TqnIz1auP"
      },
      "source": [
        "#### kNN algoritmasındaki 2. problemi bu kısımda çözüyoruz. İki nokta arasındaki uzaklığı (benzerliği) Öklid kuralıyla buluruz. Örneğin, iki müşterinin yaşları arasındaki benzerlik.<br>\n",
        "\n",
        "$D(t,k) = \\sqrt[2]{(t_1 - k_1)^2}\\;\\;\\;\\;\\;\\;\\;\\;\\;\\;\\;\\; D(t,k) = \\sqrt[p]{(t_1 - k_1)^p + (t_2 - k_2)^p + ... + (t_n - k_n)^p}$ <br>\n",
        "\n",
        "#### Birden fazla özelliğimiz olduğundan dolayı doğru benzerlik ölçüsünü bulmak için verileri normalize etmemiz gerekiyor. Veri Standardizasyonu, fit fonksiyonu yardımıyla verilere ortalama ve standart sapma arasında değer verir.\n"
      ]
    },
    {
      "cell_type": "code",
      "execution_count": null,
      "metadata": {
        "button": false,
        "new_sheet": false,
        "run_control": {
          "read_only": false
        },
        "id": "Vi6zuM7N1auQ"
      },
      "outputs": [],
      "source": [
        "X_lda_knn_1 = preprocessing.StandardScaler().fit(X_iris_knn_lda_1).transform(X_iris_knn_lda_1.astype(float))\n"
      ]
    },
    {
      "cell_type": "code",
      "source": [
        "X_train_knn_lda_1, X_test_knn_lda_1, y_train_knn_lda_1, y_test_knn_lda_1 = train_test_split( X_lda_knn_1, y_iris_knn_lda_1, test_size=0.2, random_state=4)\n"
      ],
      "metadata": {
        "id": "qGmYnS91-HEN"
      },
      "execution_count": null,
      "outputs": []
    },
    {
      "cell_type": "markdown",
      "metadata": {
        "button": false,
        "new_sheet": false,
        "run_control": {
          "read_only": false
        },
        "id": "U7fOIZvM1auV"
      },
      "source": [
        "## Geçici k değeri atama\n",
        "Şimdilik k değerini 3 kabul edelim ve modeli eğitelim, birazdan en iyi k değerini bulacağız."
      ]
    },
    {
      "cell_type": "code",
      "execution_count": null,
      "metadata": {
        "button": false,
        "new_sheet": false,
        "run_control": {
          "read_only": false
        },
        "id": "9ydWYfuL1auW"
      },
      "outputs": [],
      "source": [
        "from sklearn.neighbors import KNeighborsClassifier\n",
        "k = 3\n",
        "\n",
        "neigh_1 = KNeighborsClassifier(n_neighbors = k).fit(X_train_knn_lda_1,y_train_knn_lda_1)"
      ]
    },
    {
      "cell_type": "markdown",
      "metadata": {
        "button": false,
        "new_sheet": false,
        "run_control": {
          "read_only": false
        },
        "id": "M8fAgqPj1auX"
      },
      "source": [
        "## Tahmin\n",
        "\n",
        "Şimdi modeli test üzerinden hangi sınıfa ait olduğunu tahmin etmesi için kullanıyoruz.\n"
      ]
    },
    {
      "cell_type": "code",
      "execution_count": null,
      "metadata": {
        "button": false,
        "new_sheet": false,
        "run_control": {
          "read_only": false
        },
        "id": "RRRsPHsa1auX",
        "colab": {
          "base_uri": "https://localhost:8080/",
          "height": 447
        },
        "outputId": "e978fe45-c75c-4e5f-cc48-a194eef676f4"
      },
      "outputs": [
        {
          "output_type": "stream",
          "name": "stdout",
          "text": [
            "              precision    recall  f1-score   support\n",
            "\n",
            "           1       1.00      0.94      0.97        16\n",
            "           2       0.67      0.80      0.73         5\n",
            "           3       0.89      0.89      0.89         9\n",
            "\n",
            "    accuracy                           0.90        30\n",
            "   macro avg       0.85      0.88      0.86        30\n",
            "weighted avg       0.91      0.90      0.90        30\n",
            "\n"
          ]
        },
        {
          "output_type": "display_data",
          "data": {
            "text/plain": [
              "<Figure size 432x288 with 2 Axes>"
            ],
            "image/png": "[encoded data removed]"
          },
          "metadata": {
            "needs_background": "light"
          }
        }
      ],
      "source": [
        "yhat_knn_lda_1 = neigh_1.predict(X_test_knn_lda_1)\n",
        "classes_names = ['1','2','3']\n",
        "cm = pd.DataFrame(confusion_matrix(y_test_knn_lda_1, yhat_knn_lda_1), \n",
        "                  columns=classes_names, index = classes_names)\n",
        "                  \n",
        "sns.heatmap(cm, annot=True, fmt='d');\n",
        "print(classification_report(y_test_knn_lda_1, yhat_knn_lda_1))"
      ]
    },
    {
      "cell_type": "markdown",
      "source": [
        "## En iyi k değerini bularak yukarıdaki değerleri iyileştirelim"
      ],
      "metadata": {
        "id": "x5jqvuYCh0Bz"
      }
    },
    {
      "cell_type": "code",
      "source": [
        "url = \"https://archive.ics.uci.edu/ml/machine-learning-databases/iris/iris.data\"\n",
        "cls = ['sepal-length', 'sepal-width', 'petal-length', 'petal-width', 'class']\n",
        "\n",
        "iris_df_knn_lda_2 = pd.read_csv(url, names=cls)\n",
        "X_iris_knn_lda_2 = iris_df_knn_lda_2.iloc[:, 0:4].values\n",
        "y_iris_knn_lda_2 = iris_df_knn_lda_2['class'].values\n",
        "encoder = LabelEncoder()\n",
        "labelencoder = encoder.fit(y_iris_knn_lda_2)\n",
        "y_iris_knn_lda_2 = labelencoder.transform(y_iris_knn_lda_2) + 1\n",
        "\n",
        "label_dict_iris_knn = {1: 'Iris-setosa', 2: 'Iris-versicolor', 3:'Iris-virginica'}"
      ],
      "metadata": {
        "id": "dh9UFV0jBjHd"
      },
      "execution_count": null,
      "outputs": []
    },
    {
      "cell_type": "code",
      "source": [
        "X_lda_knn_2 = preprocessing.StandardScaler().fit(X_iris_knn_lda_2).transform(X_iris_knn_lda_2.astype(float))\n",
        "X_train_knn_lda_2, X_test_knn_lda_2, y_train_knn_lda_2, y_test_knn_lda_2 = train_test_split( X_lda_knn_2, y_iris_knn_lda_2, test_size=0.2, random_state=4)"
      ],
      "metadata": {
        "id": "7ZhPRqmqDUCX"
      },
      "execution_count": null,
      "outputs": []
    },
    {
      "cell_type": "markdown",
      "source": [
        "Standart sapması, veri kümesindeki değerler arasındaki varyansı gösterir. Bu, veriler arasındaki dağılımı ve benzerliklerini belirler. Bu nedenle, standart sapması, en iyi k değerini bulma sürecinde dikkate alınır, çünkü bu değerin düşük olması algoritmanın daha hassas ve doğru sonuç vereceğini gösterir."
      ],
      "metadata": {
        "id": "VVIbPF_F6lIj"
      }
    },
    {
      "cell_type": "code",
      "execution_count": null,
      "metadata": {
        "button": false,
        "new_sheet": false,
        "run_control": {
          "read_only": false
        },
        "id": "ss2PWwka1aud",
        "colab": {
          "base_uri": "https://localhost:8080/"
        },
        "outputId": "615753ff-e1f0-4a5a-e898-671ed8bbbe18"
      },
      "outputs": [
        {
          "output_type": "execute_result",
          "data": {
            "text/plain": [
              "array([0.9   , 0.9333, 0.9   , 0.9333, 0.9333, 0.9333, 0.9333, 0.9333,\n",
              "       0.9333, 0.9333, 0.9333])"
            ]
          },
          "metadata": {},
          "execution_count": 27
        }
      ],
      "source": [
        "from sklearn import metrics\n",
        "Ks = 12\n",
        "ks_acc = np.zeros((Ks-1))\n",
        "ks_std_acc = np.zeros((Ks-1))\n",
        "for n in range(1,Ks): \n",
        "    neigh_2 = KNeighborsClassifier(n_neighbors = n).fit(X_train_knn_lda_2,y_train_knn_lda_2)\n",
        "    yhat_knn_lda_2=neigh_2.predict(X_test_knn_lda_2)\n",
        "    ks_acc[n-1] = metrics.accuracy_score(y_test_knn_lda_2, yhat_knn_lda_2)\n",
        "    ks_std_acc[n-1]=np.std(yhat==y_test)/np.sqrt(yhat.shape[0])\n",
        "ks_acc"
      ]
    },
    {
      "cell_type": "markdown",
      "metadata": {
        "button": false,
        "new_sheet": false,
        "run_control": {
          "read_only": false
        },
        "id": "M2B5YN-g1aue"
      },
      "source": [
        "#### k değerlerinin accuracy değerleriyle birlikte görselleştirelim"
      ]
    },
    {
      "cell_type": "markdown",
      "metadata": {
        "button": false,
        "new_sheet": false,
        "run_control": {
          "read_only": false
        },
        "id": "sqZmO95j1auc"
      },
      "source": [
        "En iyi k değeri bulunurken gayet basit mantıkla belli bir değere kadar olan k değerleri için jaccard skoruna bakılır ve en iyi accuracy değerine sahip k değeri kullanılır. ks_acc, k değerlerinin accuracy değerleri. ks_std_acc, standart sapma değerleri.\n"
      ]
    },
    {
      "cell_type": "code",
      "execution_count": null,
      "metadata": {
        "button": false,
        "new_sheet": false,
        "run_control": {
          "read_only": false
        },
        "id": "t31UpugQ1auf",
        "colab": {
          "base_uri": "https://localhost:8080/",
          "height": 297
        },
        "outputId": "3dd5fb49-a389-424e-d664-faa7512a1824"
      },
      "outputs": [
        {
          "output_type": "display_data",
          "data": {
            "text/plain": [
              "<Figure size 432x288 with 1 Axes>"
            ],
            "image/png": "[encoded data removed]"
          },
          "metadata": {
            "needs_background": "light"
          }
        }
      ],
      "source": [
        "import matplotlib.pyplot as plt\n",
        "plt.plot(range(1,Ks),ks_acc,'g')\n",
        "plt.fill_between(range(1,Ks),ks_acc - 1 * ks_std_acc,ks_acc + 1 * ks_std_acc, alpha=0.10)\n",
        "plt.fill_between(range(1,Ks),ks_acc - 3 * ks_std_acc,ks_acc + 3 * ks_std_acc, alpha=0.10,color=\"green\")\n",
        "plt.legend(('Accuracy ', '+/- 1xstd','+/- 3xstd'))\n",
        "plt.ylabel('Accuracy ')\n",
        "plt.xlabel('Number of Neighbors (K)')\n",
        "plt.tight_layout()\n",
        "plt.show()"
      ]
    },
    {
      "cell_type": "code",
      "execution_count": null,
      "metadata": {
        "button": false,
        "new_sheet": false,
        "run_control": {
          "read_only": false
        },
        "id": "wJaO_shS1aug",
        "colab": {
          "base_uri": "https://localhost:8080/"
        },
        "outputId": "8849a649-898c-48ab-9675-960152ad0345"
      },
      "outputs": [
        {
          "output_type": "stream",
          "name": "stdout",
          "text": [
            "The best accuracy was with 0.9333333333333333 with k= 2\n"
          ]
        }
      ],
      "source": [
        "print( \"The best accuracy was with\", ks_acc.max(), \"with k=\", ks_acc.argmax()+1) "
      ]
    },
    {
      "cell_type": "code",
      "source": [
        "classes_names = ['1','2','3']\n",
        "cm = pd.DataFrame(confusion_matrix(y_test_knn_lda_2, yhat_knn_lda_2), \n",
        "                  columns=classes_names, index = classes_names)\n",
        "                  \n",
        "sns.heatmap(cm, annot=True, fmt='d');\n",
        "print(classification_report(y_test_knn_lda_2, yhat_knn_lda_2))"
      ],
      "metadata": {
        "colab": {
          "base_uri": "https://localhost:8080/",
          "height": 451
        },
        "id": "9iUEbI0DEzvU",
        "outputId": "1b33f9bd-82bd-475e-e5dc-03a4feb32a30"
      },
      "execution_count": null,
      "outputs": [
        {
          "output_type": "stream",
          "name": "stdout",
          "text": [
            "              precision    recall  f1-score   support\n",
            "\n",
            "           1       1.00      1.00      1.00        16\n",
            "           2       0.80      0.80      0.80         5\n",
            "           3       0.89      0.89      0.89         9\n",
            "\n",
            "    accuracy                           0.93        30\n",
            "   macro avg       0.90      0.90      0.90        30\n",
            "weighted avg       0.93      0.93      0.93        30\n",
            "\n"
          ]
        },
        {
          "output_type": "display_data",
          "data": {
            "text/plain": [
              "<Figure size 432x288 with 2 Axes>"
            ],
            "image/png": "[encoded data removed]"
          },
          "metadata": {
            "needs_background": "light"
          }
        }
      ]
    },
    {
      "cell_type": "code",
      "source": [
        "#KNN+LDA\n",
        "url = \"https://archive.ics.uci.edu/ml/machine-learning-databases/iris/iris.data\"\n",
        "cls = ['sepal-length', 'sepal-width', 'petal-length', 'petal-width', 'class']\n",
        "\n",
        "iris_df_knn_lda_3 = pd.read_csv(url, names=cls)\n",
        "X_iris_knn_lda_3 = iris_df_knn_lda_3.iloc[:, 0:4].values\n",
        "y_iris_knn_lda_3 = iris_df_knn_lda_3['class'].values\n",
        "encoder = LabelEncoder()\n",
        "labelencoder = encoder.fit(y_iris_knn_lda_3)\n",
        "y_iris_knn_lda_3 = labelencoder.transform(y_iris_knn_lda_3) + 1\n",
        "\n",
        "label_dict_iris_knn = {1: 'Iris-setosa', 2: 'Iris-versicolor', 3:'Iris-virginica'}\n",
        "X_lda_knn_3 = preprocessing.StandardScaler().fit(X_iris_knn_lda_3).transform(X_iris_knn_lda_3.astype(float))\n",
        "X_train_knn_lda_3, X_test_knn_lda_3, y_train_knn_lda_3, y_test_knn_lda_3 = train_test_split( X_lda_knn_3, y_iris_knn_lda_3, test_size=0.2, random_state=4)\n",
        "lda_3 = LDA()\n",
        "X_train_knn_lda_3 = lda_3.fit_transform(X_train_knn_lda_3,y_train_knn_lda_3)\n",
        "X_test_knn_lda_3 = lda_3.transform(X_test_knn_lda_3)\n",
        "\n",
        "neigh_2 = KNeighborsClassifier(n_neighbors = k).fit(X_train_knn_lda_3,y_train_knn_lda_3)\n",
        "yhat_knn_lda_3 =neigh_2.predict(X_test_knn_lda_3)\n",
        "\n",
        "classes_names = ['1','2','3']\n",
        "cm = pd.DataFrame(confusion_matrix(y_test_knn_lda_3, yhat_knn_lda_3), \n",
        "                  columns=classes_names, index = classes_names)\n",
        "                  \n",
        "sns.heatmap(cm, annot=True, fmt='d');\n",
        "print(classification_report(y_test_knn_lda_3, yhat_knn_lda_3))\n"
      ],
      "metadata": {
        "id": "TMeFQZUg66cA",
        "colab": {
          "base_uri": "https://localhost:8080/",
          "height": 451
        },
        "outputId": "db2fd2c1-2e19-4b85-dd2c-5bd6e4493766"
      },
      "execution_count": null,
      "outputs": [
        {
          "output_type": "stream",
          "name": "stdout",
          "text": [
            "              precision    recall  f1-score   support\n",
            "\n",
            "           1       1.00      1.00      1.00        16\n",
            "           2       1.00      0.80      0.89         5\n",
            "           3       0.90      1.00      0.95         9\n",
            "\n",
            "    accuracy                           0.97        30\n",
            "   macro avg       0.97      0.93      0.95        30\n",
            "weighted avg       0.97      0.97      0.97        30\n",
            "\n"
          ]
        },
        {
          "output_type": "display_data",
          "data": {
            "text/plain": [
              "<Figure size 432x288 with 2 Axes>"
            ],
            "image/png": "[encoded data removed]"
          },
          "metadata": {
            "needs_background": "light"
          }
        }
      ]
    },
    {
      "cell_type": "markdown",
      "source": [
        "# Referanslar\n",
        "\n",
        "https://www.geeksforgeeks.org/ml-linear-discriminant-analysis/ </br>\n",
        "https://rpubs.com/ZheWangDataAnalytics/LDA  </br>\n",
        "https://royalsocietypublishing.org/doi/10.1098/rsta.2015.0202  </br>\n",
        "https://towardsdatascience.com/unsupervised-nlp-topic-models-as-a-supervised-learning-input-cf8ee9e5cf28  </br>\n",
        "https://shuzhanfan.github.io/2018/07/understanding-mathematics-behind-lda/"
      ],
      "metadata": {
        "id": "_ANPmZ8lAXdL"
      }
    },
    {
      "cell_type": "code",
      "source": [],
      "metadata": {
        "id": "y2A5s_NfAZqo"
      },
      "execution_count": null,
      "outputs": []
    }
  ],
  "metadata": {
    "kernelspec": {
      "display_name": "Python 3.9.7 64-bit",
      "language": "python",
      "name": "python3"
    },
    "language_info": {
      "codemirror_mode": {
        "name": "ipython",
        "version": 3
      },
      "file_extension": ".py",
      "mimetype": "text/x-python",
      "name": "python",
      "nbconvert_exporter": "python",
      "pygments_lexer": "ipython3",
      "version": "3.9.7"
    },
    "vscode": {
      "interpreter": {
        "hash": "c347c8f9a7ef94e4c9e03b4513be7835ed18f45b99a2a817fb579f408b867b16"
      }
    },
    "colab": {
      "provenance": [],
      "toc_visible": true,
      "include_colab_link": true
    }
  },
  "nbformat": 4,
  "nbformat_minor": 0
}